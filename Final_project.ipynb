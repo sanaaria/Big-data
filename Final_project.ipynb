{
  "cells": [
    {
      "cell_type": "markdown",
      "metadata": {
        "id": "view-in-github",
        "colab_type": "text"
      },
      "source": [
        "<a href=\"https://colab.research.google.com/github/sanaaria/Big-data/blob/main/Final_project.ipynb\" target=\"_parent\"><img src=\"https://colab.research.google.com/assets/colab-badge.svg\" alt=\"Open In Colab\"/></a>"
      ]
    },
    {
      "cell_type": "code",
      "execution_count": null,
      "metadata": {
        "id": "fxYIwZRYMg9k"
      },
      "outputs": [],
      "source": [
        "# !pip install pyarango"
      ]
    },
    {
      "cell_type": "code",
      "source": [
        "pip install pyarango --user"
      ],
      "metadata": {
        "colab": {
          "base_uri": "https://localhost:8080/"
        },
        "id": "8llWkQKvjfqu",
        "outputId": "2758bf71-28a4-4bbe-928e-4953750289a7"
      },
      "execution_count": 1,
      "outputs": [
        {
          "output_type": "stream",
          "name": "stdout",
          "text": [
            "Looking in indexes: https://pypi.org/simple, https://us-python.pkg.dev/colab-wheels/public/simple/\n",
            "Collecting pyarango\n",
            "  Downloading pyArango-2.0.1.tar.gz (50 kB)\n",
            "\u001b[2K     \u001b[90m━━━━━━━━━━━━━━━━━━━━━━━━━━━━━━━━━━━━━━━━\u001b[0m \u001b[32m50.5/50.5 KB\u001b[0m \u001b[31m1.9 MB/s\u001b[0m eta \u001b[36m0:00:00\u001b[0m\n",
            "\u001b[?25h  Preparing metadata (setup.py) ... \u001b[?25l\u001b[?25hdone\n",
            "Requirement already satisfied: requests>=2.7.0 in /usr/local/lib/python3.8/dist-packages (from pyarango) (2.25.1)\n",
            "Requirement already satisfied: future in /usr/local/lib/python3.8/dist-packages (from pyarango) (0.16.0)\n",
            "Collecting datetime\n",
            "  Downloading DateTime-5.0-py3-none-any.whl (52 kB)\n",
            "\u001b[2K     \u001b[90m━━━━━━━━━━━━━━━━━━━━━━━━━━━━━━━━━━━━━━━━\u001b[0m \u001b[32m52.1/52.1 KB\u001b[0m \u001b[31m3.4 MB/s\u001b[0m eta \u001b[36m0:00:00\u001b[0m\n",
            "\u001b[?25hRequirement already satisfied: idna<3,>=2.5 in /usr/local/lib/python3.8/dist-packages (from requests>=2.7.0->pyarango) (2.10)\n",
            "Requirement already satisfied: urllib3<1.27,>=1.21.1 in /usr/local/lib/python3.8/dist-packages (from requests>=2.7.0->pyarango) (1.24.3)\n",
            "Requirement already satisfied: chardet<5,>=3.0.2 in /usr/local/lib/python3.8/dist-packages (from requests>=2.7.0->pyarango) (4.0.0)\n",
            "Requirement already satisfied: certifi>=2017.4.17 in /usr/local/lib/python3.8/dist-packages (from requests>=2.7.0->pyarango) (2022.12.7)\n",
            "Requirement already satisfied: pytz in /usr/local/lib/python3.8/dist-packages (from datetime->pyarango) (2022.7.1)\n",
            "Collecting zope.interface\n",
            "  Downloading zope.interface-5.5.2-cp38-cp38-manylinux_2_5_x86_64.manylinux1_x86_64.manylinux_2_12_x86_64.manylinux2010_x86_64.whl (261 kB)\n",
            "\u001b[2K     \u001b[90m━━━━━━━━━━━━━━━━━━━━━━━━━━━━━━━━━━━━━━━\u001b[0m \u001b[32m261.4/261.4 KB\u001b[0m \u001b[31m6.7 MB/s\u001b[0m eta \u001b[36m0:00:00\u001b[0m\n",
            "\u001b[?25hRequirement already satisfied: setuptools in /usr/local/lib/python3.8/dist-packages (from zope.interface->datetime->pyarango) (57.4.0)\n",
            "Building wheels for collected packages: pyarango\n",
            "  Building wheel for pyarango (setup.py) ... \u001b[?25l\u001b[?25hdone\n",
            "  Created wheel for pyarango: filename=pyArango-2.0.1-py2.py3-none-any.whl size=52260 sha256=4c996b97cd7205de4de7a9575478e2e77ad98a3d4c539133ce9fccf723048649\n",
            "  Stored in directory: /root/.cache/pip/wheels/4f/44/64/9c08f30a9540cca381d2d107729fcf2d5d065ec7fba74514fd\n",
            "Successfully built pyarango\n",
            "Installing collected packages: zope.interface, datetime, pyarango\n",
            "\u001b[33m  WARNING: The script sample is installed in '/root/.local/bin' which is not on PATH.\n",
            "  Consider adding this directory to PATH or, if you prefer to suppress this warning, use --no-warn-script-location.\u001b[0m\u001b[33m\n",
            "\u001b[0mSuccessfully installed datetime-5.0 pyarango-2.0.1 zope.interface-5.5.2\n"
          ]
        }
      ]
    },
    {
      "cell_type": "code",
      "execution_count": null,
      "metadata": {
        "id": "vkKLtmVtMoEX"
      },
      "outputs": [],
      "source": [
        "from pyArango.connection import *"
      ]
    },
    {
      "cell_type": "code",
      "source": [
        "conn = Connection(username=\"root\", password=\"root_passwd\")"
      ],
      "metadata": {
        "id": "0iTCo8kKOyEB"
      },
      "execution_count": null,
      "outputs": []
    },
    {
      "cell_type": "code",
      "source": [],
      "metadata": {
        "id": "A7CcSNSHO6Co"
      },
      "execution_count": null,
      "outputs": []
    }
  ],
  "metadata": {
    "colab": {
      "provenance": [],
      "authorship_tag": "ABX9TyOTpOx5n+2v4MZBZQqxQHS8",
      "include_colab_link": true
    },
    "kernelspec": {
      "display_name": "Python 3",
      "name": "python3"
    },
    "language_info": {
      "name": "python"
    }
  },
  "nbformat": 4,
  "nbformat_minor": 0
}